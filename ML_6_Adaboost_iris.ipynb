{
 "cells": [
  {
   "cell_type": "code",
   "execution_count": 1,
   "metadata": {},
   "outputs": [],
   "source": [
    "import pandas as pd\n",
    "from sklearn.datasets import load_iris\n",
    "from sklearn.model_selection import train_test_split\n",
    "from sklearn.ensemble import AdaBoostClassifier, GradientBoostingClassifier\n",
    "import xgboost as xgb\n",
    "from sklearn.metrics import accuracy_score, precision_score, recall_score, f1_score\n",
    "\n",
    "# Load the Iris dataset\n",
    "iris = load_iris()\n",
    "X = iris.data\n",
    "y = iris.target\n",
    "\n",
    "# Split the data into training and testing sets\n",
    "X_train, X_test, y_train, y_test = train_test_split(X, y, test_size=0.2, random_state=42)"
   ]
  },
  {
   "cell_type": "code",
   "execution_count": 2,
   "metadata": {},
   "outputs": [
    {
     "name": "stdout",
     "output_type": "stream",
     "text": [
      "AdaBoost - Accuracy: 1.00, Precision: 1.00, Recall: 1.00, F1 Score: 1.00\n",
      "Gradient Tree Boosting - Accuracy: 1.00, Precision: 1.00, Recall: 1.00, F1 Score: 1.00\n",
      "XGBoost - Accuracy: 1.00, Precision: 1.00, Recall: 1.00, F1 Score: 1.00\n"
     ]
    }
   ],
   "source": [
    "# AdaBoost\n",
    "ada_clf = AdaBoostClassifier(n_estimators=50, random_state=42)\n",
    "ada_clf.fit(X_train, y_train)\n",
    "ada_pred = ada_clf.predict(X_test)\n",
    "\n",
    "# Gradient Tree Boosting (GBM)\n",
    "gbm_clf = GradientBoostingClassifier(n_estimators=100, random_state=42) #no. of weak learners(stump)to train\n",
    "gbm_clf.fit(X_train, y_train)\n",
    "gbm_pred = gbm_clf.predict(X_test)\n",
    "\n",
    "#XGBoost\n",
    "xgb_clf = xgb.XGBClassifier(n_estimators=100, random_state=42)\n",
    "xgb_clf.fit(X_train, y_train)\n",
    "xgb_pred = xgb_clf.predict(X_test)\n",
    "\n",
    "# Evaluate performance\n",
    "def evaluate_performance(y_true, y_pred):\n",
    "    accuracy = accuracy_score(y_true, y_pred)\n",
    "    precision = precision_score(y_true, y_pred, average='macro')\n",
    "    recall = recall_score(y_true, y_pred, average='macro')\n",
    "    f1 = f1_score(y_true, y_pred, average='macro')\n",
    "    return accuracy, precision, recall, f1\n",
    "\n",
    "# Evaluate AdaBoost\n",
    "ada_accuracy, ada_precision, ada_recall, ada_f1 = evaluate_performance(y_test, ada_pred)\n",
    "print(\"AdaBoost - Accuracy: {:.2f}, Precision: {:.2f}, Recall: {:.2f}, F1 Score: {:.2f}\".format(ada_accuracy, ada_precision, ada_recall, ada_f1))\n",
    "\n",
    "# Evaluate GBM\n",
    "gbm_accuracy, gbm_precision, gbm_recall, gbm_f1 = evaluate_performance(y_test, gbm_pred)\n",
    "print(\"Gradient Tree Boosting - Accuracy: {:.2f}, Precision: {:.2f}, Recall: {:.2f}, F1 Score: {:.2f}\".format(gbm_accuracy, gbm_precision, gbm_recall, gbm_f1))\n",
    "\n",
    "# Evaluate XGBoost\n",
    "xgb_accuracy, xgb_precision, xgb_recall, xgb_f1 = evaluate_performance(y_test, xgb_pred)\n",
    "print(\"XGBoost - Accuracy: {:.2f}, Precision: {:.2f}, Recall: {:.2f}, F1 Score: {:.2f}\".format(xgb_accuracy, xgb_precision, xgb_recall, xgb_f1))\n"
   ]
  },
  {
   "cell_type": "code",
   "execution_count": null,
   "metadata": {},
   "outputs": [],
   "source": []
  }
 ],
 "metadata": {
  "kernelspec": {
   "display_name": "Python 3 (ipykernel)",
   "language": "python",
   "name": "python3"
  },
  "language_info": {
   "codemirror_mode": {
    "name": "ipython",
    "version": 3
   },
   "file_extension": ".py",
   "mimetype": "text/x-python",
   "name": "python",
   "nbconvert_exporter": "python",
   "pygments_lexer": "ipython3",
   "version": "3.8.8"
  }
 },
 "nbformat": 4,
 "nbformat_minor": 2
}
